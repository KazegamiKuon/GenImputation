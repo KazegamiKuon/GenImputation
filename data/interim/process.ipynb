{
 "metadata": {
  "language_info": {
   "codemirror_mode": {
    "name": "ipython",
    "version": 3
   },
   "file_extension": ".py",
   "mimetype": "text/x-python",
   "name": "python",
   "nbconvert_exporter": "python",
   "pygments_lexer": "ipython3",
   "version": "3.8.1"
  },
  "orig_nbformat": 2,
  "kernelspec": {
   "name": "python3",
   "display_name": "Python 3.8.1 64-bit ('GenImputation': conda)"
  },
  "interpreter": {
   "hash": "21eafac26cb0bf9ef9b8c25dccb1241681a8e30605e87a5c3f2fd922c9828120"
  }
 },
 "nbformat": 4,
 "nbformat_minor": 2,
 "cells": [
  {
   "cell_type": "code",
   "execution_count": 1,
   "metadata": {},
   "outputs": [],
   "source": [
    "import sys\n",
    "sys.path.insert(1,'../../')\n",
    "from lib.data_processing import process_input as pi\n",
    "import pandas as pd\n",
    "import numpy as np"
   ]
  },
  {
   "source": [
    "# Create legend full"
   ],
   "cell_type": "markdown",
   "metadata": {}
  },
  {
   "cell_type": "code",
   "execution_count": 2,
   "metadata": {},
   "outputs": [],
   "source": [
    "vcf_gk_file = '../raw/G1K_chr20_hg38.vcf.gz'\n",
    "manifest_file = '../raw/infiniumomni2-5-8-v1-3-a2.csv.gz'\n",
    "hg_refgenome = '../raw/hg38.fa.gz'\n",
    "chroms = ['20']\n",
    "output_prefix = './G1K_chr20_hg38'"
   ]
  },
  {
   "cell_type": "code",
   "execution_count": 3,
   "metadata": {},
   "outputs": [
    {
     "output_type": "stream",
     "name": "stderr",
     "text": [
      "create marker from manifest: 2372784it [00:10, 215922.36it/s]\n",
      "process header vcf: 19it [00:00, 14312.46it/s]\n",
      "vcf to haplegend: 1817492it [2:11:45, 229.91it/s]\n",
      "prepare marker to legend: 1817492it [00:03, 566110.93it/s]\n",
      "prepare marker to hap: 1817492it [03:41, 8203.39it/s]\n",
      "\n",
      "prepare data from vcf done!\n",
      "\n"
     ]
    }
   ],
   "source": [
    "pi.process_data_to_legend(vcf_gk_file,manifest_file,hg_refgenome,chroms,output_prefix)"
   ]
  },
  {
   "source": [
    "# Create bcftools target file from Omni"
   ],
   "cell_type": "markdown",
   "metadata": {}
  },
  {
   "cell_type": "code",
   "execution_count": 2,
   "metadata": {},
   "outputs": [],
   "source": [
    "manifest_file = '../raw/infiniumomni2-5-8v1-5-a1.csv.gz'\n",
    "hg_refgenome = '../raw/hg19.fa.gz'\n",
    "chroms = ['22']\n",
    "targets_file = './omni_bcftools_targets_22.targets.tsv.gz'"
   ]
  },
  {
   "cell_type": "code",
   "execution_count": 3,
   "metadata": {},
   "outputs": [
    {
     "output_type": "display_data",
     "data": {
      "text/plain": "create marker from manifest: 0it [00:00, ?it/s]",
      "application/vnd.jupyter.widget-view+json": {
       "version_major": 2,
       "version_minor": 0,
       "model_id": "51fb27cf50514579a49f6c267a136cfe"
      }
     },
     "metadata": {}
    },
    {
     "output_type": "stream",
     "name": "stdout",
     "text": [
      "Create marker done!\n",
      "Convert done!\n"
     ]
    }
   ],
   "source": [
    "pi.parse_manifest_to_bcftools_targets_file(manifest_file,chroms,hg_refgenome,targets_file)"
   ]
  },
  {
   "cell_type": "code",
   "execution_count": null,
   "metadata": {},
   "outputs": [],
   "source": []
  }
 ]
}