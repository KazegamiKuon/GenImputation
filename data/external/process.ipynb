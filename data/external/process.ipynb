{
 "metadata": {
  "language_info": {
   "codemirror_mode": {
    "name": "ipython",
    "version": 3
   },
   "file_extension": ".py",
   "mimetype": "text/x-python",
   "name": "python",
   "nbconvert_exporter": "python",
   "pygments_lexer": "ipython3",
   "version": "3.8.1"
  },
  "orig_nbformat": 4,
  "kernelspec": {
   "name": "python3",
   "display_name": "Python 3.8.1 64-bit ('GenImputation': conda)"
  },
  "interpreter": {
   "hash": "21eafac26cb0bf9ef9b8c25dccb1241681a8e30605e87a5c3f2fd922c9828120"
  }
 },
 "nbformat": 4,
 "nbformat_minor": 2,
 "cells": [
  {
   "source": [
    "# Import some library"
   ],
   "cell_type": "markdown",
   "metadata": {}
  },
  {
   "cell_type": "code",
   "execution_count": 1,
   "metadata": {},
   "outputs": [],
   "source": [
    "import sys\n",
    "sys.path.insert(0,'../../')\n",
    "import pandas as pd\n",
    "import numpy as np\n",
    "import os\n",
    "from lib.utils import general as g\n",
    "from lib.genhelper.config_class import vcf_zarr_config as vzconfig\n",
    "from lib.config.config_class import page_config, legend_config\n",
    "import json"
   ]
  },
  {
   "source": [
    "# Get and convert data from paper\n",
    "\n",
    "This content will get variant id each reagion from result of [paper](https://www.biorxiv.org/content/10.1101/821504v1) to file."
   ],
   "cell_type": "markdown",
   "metadata": {}
  },
  {
   "source": [
    "## From input and output"
   ],
   "cell_type": "markdown",
   "metadata": {}
  },
  {
   "cell_type": "code",
   "execution_count": 2,
   "metadata": {},
   "outputs": [],
   "source": [
    "# default data and format file .gen at reasult\n",
    "chrom = '22'\n",
    "regions = np.arange(10)+1\n",
    "region_path_format = '../../rnnimp/results/chr{0}_{1}.gen'\n",
    "obsers_path_format = '../../rnnimp/results/chr{0}_{1}.legend.gz'"
   ]
  },
  {
   "cell_type": "code",
   "execution_count": 3,
   "metadata": {},
   "outputs": [],
   "source": [
    "output_file_format = './region_info/rnnimp.chr{}.r{:04d}'+page_config.tail[page_config.variant]\n",
    "with g.writing('./region_info/config.json') as cf:\n",
    "    json.dump({'file_name_format': os.path.abspath(output_file_format)},cf)"
   ]
  },
  {
   "cell_type": "code",
   "execution_count": 9,
   "metadata": {},
   "outputs": [],
   "source": [
    "## this use for convert iput and output file from paper\n",
    "chrom_name = vzconfig.chrom\n",
    "pos_name = vzconfig.position\n",
    "ref_name = vzconfig.ref\n",
    "alt_name = vzconfig.alt\n",
    "id_name = 'id'\n",
    "flag_name = vzconfig.flag\n",
    "for region in regions:\n",
    "    region_path = region_path_format.format(chrom,region)\n",
    "    obsers_path = obsers_path_format.format(chrom,region)\n",
    "    output_path = output_file_format.format(chrom,region)\n",
    "    folder = os.path.dirname(output_path)\n",
    "    os.makedirs(folder,exist_ok=True)\n",
    "    unobsers = pd.read_csv(region_path,sep=' ',header=None).iloc[:,2:5].copy()\n",
    "    unobsers.columns = [pos_name,ref_name,alt_name]\n",
    "    unobsers[chrom_name]= np.full(len(unobsers),chrom)\n",
    "    unobsers[flag_name]= np.full(len(unobsers),0)\n",
    "    obsers = pd.read_csv(obsers_path,sep=' ').iloc[:,1:5].copy()\n",
    "    obsers.columns = [pos_name,ref_name,alt_name,flag_name]\n",
    "    obsers[chrom_name] = np.full(len(obsers),chrom)\n",
    "    cols = [chrom_name,pos_name,ref_name,alt_name,flag_name]\n",
    "    final_data = pd.concat([unobsers[cols],obsers[cols]],ignore_index=True)\n",
    "    final_data.sort_values(by=cols[:-1],ignore_index=True,inplace=True)\n",
    "    final_data.to_csv(output_path,index=False,sep=page_config.page_split_params)"
   ]
  },
  {
   "source": [
    "## From true file"
   ],
   "cell_type": "markdown",
   "metadata": {}
  },
  {
   "cell_type": "code",
   "execution_count": 4,
   "metadata": {},
   "outputs": [],
   "source": [
    "# default data and format file .gen at reasult\n",
    "chrom = '22'\n",
    "regions = np.arange(329)+1\n",
    "region_path_format = '../../rnnimp/example_data/model_data/region_{}.legend.gz'"
   ]
  },
  {
   "cell_type": "code",
   "execution_count": 5,
   "metadata": {},
   "outputs": [],
   "source": [
    "output_file_format = './region_info/rnnimp.chr{}.r{:04d}'+page_config.tail[page_config.variant]\n",
    "with g.writing('./region_info/config.json') as cf:\n",
    "    json.dump({'file_name_format': os.path.abspath(output_file_format)},cf)"
   ]
  },
  {
   "cell_type": "code",
   "execution_count": 6,
   "metadata": {},
   "outputs": [],
   "source": [
    "chrom_name = vzconfig.chrom\n",
    "pos_name = vzconfig.position\n",
    "ref_name = vzconfig.ref\n",
    "alt_name = vzconfig.alt\n",
    "af_name = vzconfig.af\n",
    "id_name = 'id'\n",
    "flag_name = vzconfig.flag\n",
    "for region in regions:\n",
    "    region_path = region_path_format.format(region)\n",
    "    output_path = output_file_format.format(chrom,region-1)\n",
    "    folder = os.path.dirname(output_path)\n",
    "    os.makedirs(folder,exist_ok=True)\n",
    "    paper_region = pd.read_csv(region_path,sep=legend_config.legend_split_params)\n",
    "    paper_region.rename(columns={'position':pos_name,'a0':ref_name,'a1':alt_name,'a1_freq':af_name,'array_marker_flag':flag_name},inplace=True)\n",
    "    paper_region[chrom_name] = np.full(paper_region.shape[0],chrom)\n",
    "    cols = [chrom_name,pos_name,ref_name,alt_name,af_name,flag_name]\n",
    "    final_data = paper_region[cols].copy()\n",
    "    final_data.to_csv(output_path,index=False,sep=page_config.page_split_params)"
   ]
  },
  {
   "cell_type": "code",
   "execution_count": null,
   "metadata": {},
   "outputs": [],
   "source": []
  }
 ]
}