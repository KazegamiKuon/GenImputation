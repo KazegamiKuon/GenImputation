{
 "metadata": {
  "language_info": {
   "codemirror_mode": {
    "name": "ipython",
    "version": 3
   },
   "file_extension": ".py",
   "mimetype": "text/x-python",
   "name": "python",
   "nbconvert_exporter": "python",
   "pygments_lexer": "ipython3",
   "version": "3.8.1"
  },
  "orig_nbformat": 4,
  "kernelspec": {
   "name": "python3",
   "display_name": "Python 3.8.1 64-bit ('GenImputation': conda)"
  },
  "interpreter": {
   "hash": "21eafac26cb0bf9ef9b8c25dccb1241681a8e30605e87a5c3f2fd922c9828120"
  }
 },
 "nbformat": 4,
 "nbformat_minor": 2,
 "cells": [
  {
   "cell_type": "code",
   "execution_count": 1,
   "source": [
    "import sys\n",
    "sys.path.insert(0,'../../../')\n",
    "from lib.data_processing import GenNLPMaskedDataset\n",
    "from transformers import ElectraForMaskedLM, ElectraTokenizer, ElectraConfig, TrainingArguments\n",
    "import pandas as pd\n",
    "import numpy as np\n",
    "from lib.utils import general as g\n",
    "from lib.config.config_class import page_config\n",
    "from lib.model.overwriter import OTrainingArguments, OTrainer\n",
    "from lib.utils.metrics import evalpred_to_word, r2_score_transformers\n",
    "import json\n",
    "import os\n",
    "from IPython.display import clear_output\n",
    "from lib.data_processing import process_ouput as po"
   ],
   "outputs": [],
   "metadata": {}
  },
  {
   "cell_type": "markdown",
   "source": [
    "# Config"
   ],
   "metadata": {}
  },
  {
   "cell_type": "code",
   "execution_count": 2,
   "source": [
    "config = None\n",
    "with g.reading('/client/user1/cuongdev/GenImputation/data/train/electra_G1K_22_hs37d5/config.json') as cf:\n",
    "    config = json.load(cf)\n",
    "assert config is not None, \"config can't none\""
   ],
   "outputs": [],
   "metadata": {}
  },
  {
   "cell_type": "code",
   "execution_count": 3,
   "source": [
    "regions = [1,2,3,4,5,6,7,8,9,10,11,12]\n",
    "batchs = [0,1,2,3,4,5,6,7,8]\n",
    "train_region_paths = page_config.get_file_paths(config[page_config.file_train_prefix],page_config.page,regions,batchs)\n",
    "test_region_paths = page_config.get_file_paths(config[page_config.file_test_prefix],page_config.page,regions,[0])\n",
    "vocab_file = config[page_config.vocab_file]\n",
    "save_dir = config[page_config.save_dir]"
   ],
   "outputs": [],
   "metadata": {}
  },
  {
   "cell_type": "code",
   "execution_count": 4,
   "source": [
    "training_args = OTrainingArguments(**config[page_config.train_args])\n",
    "output_dir = training_args.output_dir\n",
    "logging_dir = training_args.logging_dir\n",
    "modeling_args = ElectraConfig(**config[page_config.model_args])\n",
    "tokenizer = ElectraTokenizer(vocab_file=vocab_file)\n",
    "seed = training_args.seed"
   ],
   "outputs": [],
   "metadata": {}
  },
  {
   "cell_type": "markdown",
   "source": [
    "## Train"
   ],
   "metadata": {}
  },
  {
   "cell_type": "code",
   "execution_count": null,
   "source": [
    "for i, region in enumerate(regions):\n",
    "    clear_output(wait=True)\n",
    "    save_path = save_dir.format(region)\n",
    "    prevert_path = save_dir.format(region-1)\n",
    "    ## Train and eval data\n",
    "    train_batch_paths = train_region_paths[i]\n",
    "    train_dataset = GenNLPMaskedDataset(\n",
    "        train_batch_paths[:-1],\n",
    "        tokenizer,\n",
    "        seed=seed,\n",
    "        masked_by_flag=True,\n",
    "        # masked_per=0.15,\n",
    "        only_input=True,\n",
    "        force_create=True)\n",
    "    eval_dataset = GenNLPMaskedDataset(train_batch_paths[-1:],tokenizer,seed=seed,masked_by_flag=True,only_input=True)\n",
    "    ## test data\n",
    "    test_batch_paths = test_region_paths[i]\n",
    "    test_dataset = GenNLPMaskedDataset(test_batch_paths,tokenizer,seed=seed,masked_by_flag=True,only_input=True)\n",
    "    ## model\n",
    "    modeling_args.vocab_size = tokenizer.vocab_size\n",
    "    modeling_args.max_position_embeddings = 1300\n",
    "    electra_model = ElectraForMaskedLM(modeling_args)\n",
    "    if os.path.isdir(prevert_path):\n",
    "        electra_model = ElectraForMaskedLM.from_pretrained(prevert_path)\n",
    "    training_args.output_dir = output_dir.format(region)\n",
    "    training_args.logging_dir = logging_dir.format(region)\n",
    "    trainer = OTrainer(\n",
    "        model = electra_model,\n",
    "        args=training_args,\n",
    "        train_dataset = train_dataset,\n",
    "        eval_dataset = eval_dataset,\n",
    "        compute_metrics = r2_score_transformers,\n",
    "    )\n",
    "    trainer.train()\n",
    "    trainer.save_model(save_path)\n",
    "    output_test = trainer.predict(test_dataset)\n",
    "    metrics = output_test.metrics\n",
    "    test_result_path = os.path.join(save_path,'test_result.json')\n",
    "    with g.writing(test_result_path) as trf:\n",
    "        json.dump(metrics,trf)"
   ],
   "outputs": [],
   "metadata": {
    "tags": []
   }
  },
  {
   "cell_type": "markdown",
   "source": [
    "# Run show r2 plot"
   ],
   "metadata": {}
  },
  {
   "cell_type": "code",
   "execution_count": 5,
   "source": [
    "true_data = []\n",
    "pred_data = []\n",
    "\n",
    "detail = '_pretrain_c8_e200'\n",
    "for i, region in enumerate(regions):\n",
    "    clear_output(wait=True)\n",
    "    print('Region {} trainning...'.format(region))\n",
    "    print('Prevert region {} trainning...'.format(regions[i-1]))\n",
    "    save_path = save_dir.format(region)+detail\n",
    "    prevert_path = save_dir.format(regions[i-1])+detail\n",
    "    training_args.output_dir = output_dir.format(region)+detail\n",
    "    training_args.logging_dir = logging_dir.format(region)+detail\n",
    "    ## Train and eval data\n",
    "    train_batch_paths = train_region_paths[i]\n",
    "    train_dataset = GenNLPMaskedDataset(\n",
    "        train_batch_paths[:-1],\n",
    "        tokenizer,\n",
    "        seed=seed,\n",
    "        masked_by_flag=True,\n",
    "        # masked_per=0.15,\n",
    "        only_input=True)\n",
    "    eval_dataset = GenNLPMaskedDataset(train_batch_paths[-1:],tokenizer,seed=seed,masked_by_flag=True,only_input=True)\n",
    "    ## test data\n",
    "    test_batch_paths = test_region_paths[i]\n",
    "    test_dataset = GenNLPMaskedDataset(test_batch_paths,tokenizer,seed=seed,masked_by_flag=True,only_input=True)\n",
    "    electra_model = ElectraForMaskedLM.from_pretrained(save_path)\n",
    "    trainer = OTrainer(\n",
    "        model = electra_model,\n",
    "        args=training_args,\n",
    "        train_dataset = train_dataset,\n",
    "        eval_dataset = eval_dataset,\n",
    "        compute_metrics = r2_score_transformers,\n",
    "    )\n",
    "    output_test = trainer.predict(test_dataset)\n",
    "    labels, top_word = evalpred_to_word(output_test)\n",
    "    true_data.append(labels)\n",
    "    pred_data.append(top_word)"
   ],
   "outputs": [
    {
     "output_type": "stream",
     "name": "stdout",
     "text": [
      "Region 12 trainning...\n",
      "Prevert region 11 trainning...\n"
     ]
    },
    {
     "output_type": "display_data",
     "data": {
      "text/plain": [
       "preprocess data from document:   0%|          | 0/8 [00:00<?, ?it/s]"
      ],
      "application/vnd.jupyter.widget-view+json": {
       "version_major": 2,
       "version_minor": 0,
       "model_id": "fa2ed3a8200b4284b75a21b98520b1f0"
      }
     },
     "metadata": {}
    },
    {
     "output_type": "display_data",
     "data": {
      "text/plain": [
       "preprocess data from document:   0%|          | 0/1 [00:00<?, ?it/s]"
      ],
      "application/vnd.jupyter.widget-view+json": {
       "version_major": 2,
       "version_minor": 0,
       "model_id": "744fff7c030147c486d8becd68c436be"
      }
     },
     "metadata": {}
    },
    {
     "output_type": "display_data",
     "data": {
      "text/plain": [
       "preprocess data from document:   0%|          | 0/1 [00:00<?, ?it/s]"
      ],
      "application/vnd.jupyter.widget-view+json": {
       "version_major": 2,
       "version_minor": 0,
       "model_id": "4f3adf44747a4505bcd34792b5882dfe"
      }
     },
     "metadata": {}
    },
    {
     "output_type": "stream",
     "name": "stderr",
     "text": [
      "loading configuration file /client/user1/cuongdev/GenImputation/data/train/electra_G1K_22_hs37d5/data_dir/model/region0012_pretrain_c8_e200/config.json\n",
      "Model config ElectraConfig {\n",
      "  \"_name_or_path\": \"/client/user1/cuongdev/GenImputation/data/train/electra_G1K_22_hs37d5/data_dir/model/region0011_pretrain_c8_e200\",\n",
      "  \"architectures\": [\n",
      "    \"ElectraForMaskedLM\"\n",
      "  ],\n",
      "  \"attention_probs_dropout_prob\": 0.1,\n",
      "  \"embedding_size\": 64,\n",
      "  \"hidden_act\": \"gelu\",\n",
      "  \"hidden_dropout_prob\": 0.1,\n",
      "  \"hidden_size\": 128,\n",
      "  \"initializer_range\": 0.02,\n",
      "  \"intermediate_size\": 1024,\n",
      "  \"layer_norm_eps\": 1e-12,\n",
      "  \"max_position_embeddings\": 1300,\n",
      "  \"model_type\": \"electra\",\n",
      "  \"num_attention_heads\": 4,\n",
      "  \"num_hidden_layers\": 1,\n",
      "  \"pad_token_id\": 0,\n",
      "  \"position_embedding_type\": \"relative_key\",\n",
      "  \"summary_activation\": \"gelu\",\n",
      "  \"summary_last_dropout\": 0.1,\n",
      "  \"summary_type\": \"first\",\n",
      "  \"summary_use_proj\": true,\n",
      "  \"transformers_version\": \"4.8.2\",\n",
      "  \"type_vocab_size\": 2,\n",
      "  \"vocab_size\": 8\n",
      "}\n",
      "\n",
      "loading weights file /client/user1/cuongdev/GenImputation/data/train/electra_G1K_22_hs37d5/data_dir/model/region0012_pretrain_c8_e200/pytorch_model.bin\n",
      "All model checkpoint weights were used when initializing ElectraForMaskedLM.\n",
      "\n",
      "All the weights of ElectraForMaskedLM were initialized from the model checkpoint at /client/user1/cuongdev/GenImputation/data/train/electra_G1K_22_hs37d5/data_dir/model/region0012_pretrain_c8_e200.\n",
      "If your task is similar to the task the model of the checkpoint was trained on, you can already use ElectraForMaskedLM for predictions without further training.\n",
      "***** Running Prediction *****\n",
      "  Num examples = 200\n",
      "  Batch size = 32\n"
     ]
    },
    {
     "output_type": "display_data",
     "data": {
      "text/plain": [
       "<IPython.core.display.HTML object>"
      ],
      "text/html": [
       "\n",
       "    <div>\n",
       "      \n",
       "      <progress value='7' max='7' style='width:300px; height:20px; vertical-align: middle;'></progress>\n",
       "      [7/7 00:00]\n",
       "    </div>\n",
       "    "
      ]
     },
     "metadata": {}
    }
   ],
   "metadata": {}
  },
  {
   "cell_type": "code",
   "execution_count": 6,
   "source": [
    "variant_ids = page_config.get_file_paths_in_dir('/client/user1/cuongdev/GenImputation/data/train/electra_G1K_22_hs37d5/corpus_dir/',page_config.variant)\n",
    "variant_ids.sort()"
   ],
   "outputs": [],
   "metadata": {}
  },
  {
   "cell_type": "code",
   "execution_count": 7,
   "source": [
    "df_origin = None\n",
    "for i, region in enumerate(regions):\n",
    "    temp = pd.read_csv(variant_ids[region],sep=page_config.page_split_params)\n",
    "    if df_origin is None:\n",
    "        df_origin = temp.copy()\n",
    "    else:\n",
    "        df_origin = pd.concat([df_origin,temp])"
   ],
   "outputs": [],
   "metadata": {}
  },
  {
   "cell_type": "code",
   "execution_count": 8,
   "source": [
    "true_data = [d[:,1:-1] for d in true_data]\n",
    "pred_data = [d[:,1:-1] for d in pred_data]"
   ],
   "outputs": [],
   "metadata": {}
  },
  {
   "cell_type": "code",
   "execution_count": 9,
   "source": [
    "y_true = np.concatenate(true_data,axis=1)\n",
    "y_pred = np.concatenate(pred_data,axis=1)\n",
    "y_true.shape, y_pred.shape"
   ],
   "outputs": [
    {
     "output_type": "execute_result",
     "data": {
      "text/plain": [
       "((200, 12131), (200, 12131))"
      ]
     },
     "metadata": {},
     "execution_count": 9
    }
   ],
   "metadata": {}
  },
  {
   "cell_type": "code",
   "execution_count": 10,
   "source": [
    "masked_indexs = df_origin['flag'].values == 0"
   ],
   "outputs": [],
   "metadata": {}
  },
  {
   "cell_type": "code",
   "execution_count": 11,
   "source": [
    "mafs = np.array(list(map(lambda af: af if af <= 0.5 else 1-af,df_origin['AF'].values)))\n",
    "mafs = mafs[masked_indexs]\n",
    "y_true = y_true.T[masked_indexs]\n",
    "y_pred = y_pred.T[masked_indexs]"
   ],
   "outputs": [],
   "metadata": {}
  },
  {
   "cell_type": "code",
   "execution_count": 12,
   "source": [
    "cols = ['CHROM','POS','REF','ALT']\n",
    "paper_format = '/client/user1/cuongdev/GenImputation/temp/chr22_{}.gen'\n",
    "paper_data = []\n",
    "for i, region in enumerate(regions):\n",
    "    paper_path = paper_format.format(region+1)\n",
    "    temp = pd.read_csv(paper_path,sep=' ',header=None)\n",
    "    temp.drop(columns=[0],inplace=True)\n",
    "    temp.rename(columns={1:'CHROM',2:'POS',3:'REF',4:'ALT'},inplace=True)\n",
    "    temp['CHROM'] = np.full(temp.shape[0],22)\n",
    "    paper_data.append(temp)\n",
    "paper_data = pd.concat(paper_data)\n",
    "paper_data = pd.merge(df_origin[cols],paper_data,how='inner',on=cols)\n",
    "paper_pred = paper_data[np.arange(5,205)].values"
   ],
   "outputs": [],
   "metadata": {}
  },
  {
   "cell_type": "code",
   "execution_count": 13,
   "source": [
    "# decode data\n",
    "for i in range(y_true.shape[0]):\n",
    "    for j in range(y_true.shape[1]):\n",
    "        temp = tokenizer.decode(int(y_true[i,j]))\n",
    "        if temp == '.':\n",
    "            y_true[i,j] = 0\n",
    "        else:\n",
    "            y_true[i,j] = int(temp)\n",
    "        temp = tokenizer.decode(int(y_pred[i,j]))\n",
    "        if temp == '.':\n",
    "            y_pred[i,j] = 0\n",
    "        else:\n",
    "            y_pred[i,j] = int(temp)"
   ],
   "outputs": [],
   "metadata": {}
  },
  {
   "cell_type": "code",
   "execution_count": 14,
   "source": [
    "po.plot_r2_by_maf(mafs,y_true,{'electra':y_pred,'paper':paper_pred})"
   ],
   "outputs": [
    {
     "output_type": "display_data",
     "data": {
      "text/plain": [
       "<Figure size 432x288 with 1 Axes>"
      ],
      "image/png": "[encoded data removed]"
     },
     "metadata": {
      "needs_background": "light"
     }
    },
    {
     "output_type": "execute_result",
     "data": {
      "text/plain": [
       "([0.001, 0.005, 0.01, 0.05, 0.2, 0.5],\n",
       " {'electra': array([0.995     , 0.98833333, 0.49248939, 0.45169983, 0.68977725,\n",
       "         0.51774227]),\n",
       "  'paper': array([1.        , 0.99416667, 0.68347036, 0.72951658, 0.84059458,\n",
       "         0.73009582])})"
      ]
     },
     "metadata": {},
     "execution_count": 14
    }
   ],
   "metadata": {}
  },
  {
   "cell_type": "code",
   "execution_count": 15,
   "source": [
    "result_path_format = '/client/user1/cuongdev/GenImputation/data/train/electra_G1K_22_hs37d5/data_dir/model/region{:04d}_pretrain_c8_e200/test_result.json'"
   ],
   "outputs": [],
   "metadata": {}
  },
  {
   "cell_type": "code",
   "execution_count": 16,
   "source": [
    "result_r2 = []\n",
    "for i, region in enumerate(regions):\n",
    "    result_path = result_path_format.format(region)\n",
    "    with g.reading(result_path) as rf:\n",
    "        result_data = json.load(rf)\n",
    "        result_r2.append(result_data['test_R2 score VS'])"
   ],
   "outputs": [],
   "metadata": {}
  },
  {
   "cell_type": "code",
   "execution_count": 17,
   "source": [
    "paper_region_r2 = [0.5061524256812094,\n",
    "0.7149501541501868,\n",
    "0.8952640457566468,\n",
    "0.8363427507857102,\n",
    "0.8801343570854064,\n",
    "0.9107906599707585,\n",
    "0.8952103103470134,\n",
    "0.7945351710895777,\n",
    "0.8546739333106563,\n",
    "0.9344685235893424,\n",
    "-0.05712632206381623,\n",
    "0.8971539939313167]"
   ],
   "outputs": [],
   "metadata": {}
  },
  {
   "cell_type": "code",
   "execution_count": 56,
   "source": [
    "pd.DataFrame({'own':result_r2,'paper':paper_region_r2},index=np.arange(1,13))"
   ],
   "outputs": [
    {
     "output_type": "execute_result",
     "data": {
      "text/plain": [
       "         own     paper\n",
       "1   0.585389  0.506152\n",
       "2   0.619893  0.714950\n",
       "3   0.785703  0.895264\n",
       "4   0.731727  0.836343\n",
       "5   0.846214  0.880134\n",
       "6   0.901988  0.910791\n",
       "7   0.859742  0.895210\n",
       "8   0.745722  0.794535\n",
       "9   0.831010  0.854674\n",
       "10  0.903368  0.934469\n",
       "11  0.876512 -0.057126\n",
       "12  0.822133  0.897154"
      ],
      "text/html": [
       "<div>\n",
       "<style scoped>\n",
       "    .dataframe tbody tr th:only-of-type {\n",
       "        vertical-align: middle;\n",
       "    }\n",
       "\n",
       "    .dataframe tbody tr th {\n",
       "        vertical-align: top;\n",
       "    }\n",
       "\n",
       "    .dataframe thead th {\n",
       "        text-align: right;\n",
       "    }\n",
       "</style>\n",
       "<table border=\"1\" class=\"dataframe\">\n",
       "  <thead>\n",
       "    <tr style=\"text-align: right;\">\n",
       "      <th></th>\n",
       "      <th>own</th>\n",
       "      <th>paper</th>\n",
       "    </tr>\n",
       "  </thead>\n",
       "  <tbody>\n",
       "    <tr>\n",
       "      <th>1</th>\n",
       "      <td>0.585389</td>\n",
       "      <td>0.506152</td>\n",
       "    </tr>\n",
       "    <tr>\n",
       "      <th>2</th>\n",
       "      <td>0.619893</td>\n",
       "      <td>0.714950</td>\n",
       "    </tr>\n",
       "    <tr>\n",
       "      <th>3</th>\n",
       "      <td>0.785703</td>\n",
       "      <td>0.895264</td>\n",
       "    </tr>\n",
       "    <tr>\n",
       "      <th>4</th>\n",
       "      <td>0.731727</td>\n",
       "      <td>0.836343</td>\n",
       "    </tr>\n",
       "    <tr>\n",
       "      <th>5</th>\n",
       "      <td>0.846214</td>\n",
       "      <td>0.880134</td>\n",
       "    </tr>\n",
       "    <tr>\n",
       "      <th>6</th>\n",
       "      <td>0.901988</td>\n",
       "      <td>0.910791</td>\n",
       "    </tr>\n",
       "    <tr>\n",
       "      <th>7</th>\n",
       "      <td>0.859742</td>\n",
       "      <td>0.895210</td>\n",
       "    </tr>\n",
       "    <tr>\n",
       "      <th>8</th>\n",
       "      <td>0.745722</td>\n",
       "      <td>0.794535</td>\n",
       "    </tr>\n",
       "    <tr>\n",
       "      <th>9</th>\n",
       "      <td>0.831010</td>\n",
       "      <td>0.854674</td>\n",
       "    </tr>\n",
       "    <tr>\n",
       "      <th>10</th>\n",
       "      <td>0.903368</td>\n",
       "      <td>0.934469</td>\n",
       "    </tr>\n",
       "    <tr>\n",
       "      <th>11</th>\n",
       "      <td>0.876512</td>\n",
       "      <td>-0.057126</td>\n",
       "    </tr>\n",
       "    <tr>\n",
       "      <th>12</th>\n",
       "      <td>0.822133</td>\n",
       "      <td>0.897154</td>\n",
       "    </tr>\n",
       "  </tbody>\n",
       "</table>\n",
       "</div>"
      ]
     },
     "metadata": {},
     "execution_count": 56
    }
   ],
   "metadata": {}
  },
  {
   "cell_type": "markdown",
   "source": [
    "# View plot eval r2"
   ],
   "metadata": {}
  },
  {
   "cell_type": "code",
   "execution_count": 2,
   "source": [
    "# checkpoint_path_format = ''\n",
    "log_history = 'log_history'\n",
    "eval_key = 'eval_R2 score VS'\n",
    "step_key = 'step'\n",
    "region = 9"
   ],
   "outputs": [],
   "metadata": {}
  },
  {
   "cell_type": "code",
   "execution_count": 6,
   "source": [
    "checkpoint_paths = [\n",
    "    '/client/user1/cuongdev/GenImputation/data/train/electra_G1K_22_hs37d5/checkpoints/region0009/checkpoint-18120/trainer_state.json',\n",
    "    '/client/user1/cuongdev/GenImputation/data/train/electra_G1K_22_hs37d5/checkpoints/region0009_same_length/checkpoint-18120/trainer_state.json'\n",
    "]\n",
    "log_r2s = []\n",
    "for cp in checkpoint_paths:\n",
    "    checkpoint = None\n",
    "    with g.reading(cp) as cf:\n",
    "        checkpoint = json.load(cf)\n",
    "    checkpoint\n",
    "    temp_r2 = [log[eval_key] for log in checkpoint[log_history] if eval_key in log]\n",
    "    log_r2s.append(temp_r2)"
   ],
   "outputs": [],
   "metadata": {}
  },
  {
   "cell_type": "code",
   "execution_count": 7,
   "source": [
    "import matplotlib.pyplot as plt"
   ],
   "outputs": [],
   "metadata": {}
  },
  {
   "cell_type": "code",
   "execution_count": 10,
   "source": [
    "for i, log_r2 in enumerate(log_r2s):\n",
    "    plt.plot(np.arange(len(log_r2)),log_r2,label=i)\n",
    "plt.legend()\n",
    "plt.show()"
   ],
   "outputs": [
    {
     "output_type": "display_data",
     "data": {
      "text/plain": [
       "<Figure size 432x288 with 1 Axes>"
      ],
      "image/png": "[encoded data removed]"
     },
     "metadata": {
      "needs_background": "light"
     }
    }
   ],
   "metadata": {}
  },
  {
   "cell_type": "code",
   "execution_count": null,
   "source": [],
   "outputs": [],
   "metadata": {}
  }
 ]
}