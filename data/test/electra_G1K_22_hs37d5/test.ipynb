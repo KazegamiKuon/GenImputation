{
 "metadata": {
  "language_info": {
   "codemirror_mode": {
    "name": "ipython",
    "version": 3
   },
   "file_extension": ".py",
   "mimetype": "text/x-python",
   "name": "python",
   "nbconvert_exporter": "python",
   "pygments_lexer": "ipython3",
   "version": "3.8.1"
  },
  "orig_nbformat": 4,
  "kernelspec": {
   "name": "python3",
   "display_name": "Python 3.8.1 64-bit ('GenImputation': conda)"
  },
  "interpreter": {
   "hash": "21eafac26cb0bf9ef9b8c25dccb1241681a8e30605e87a5c3f2fd922c9828120"
  }
 },
 "nbformat": 4,
 "nbformat_minor": 2,
 "cells": [
  {
   "cell_type": "code",
   "execution_count": 1,
   "metadata": {},
   "outputs": [],
   "source": [
    "import sys\n",
    "sys.path.insert(0,'../../../')\n",
    "from lib.data_processing import GenNLPMaskedDataset\n",
    "from transformers import ElectraForMaskedLM, ElectraTokenizer, ElectraConfig, Trainer, TrainingArguments, EvalPrediction\n",
    "import torch\n",
    "import numpy as np\n",
    "from sklearn.metrics import r2_score\n",
    "from torch.nn import functional as F\n",
    "from lib.utils import general as g\n",
    "from lib.config.config_class import page_config\n",
    "import json\n",
    "import os"
   ]
  },
  {
   "source": [
    "# Config"
   ],
   "cell_type": "markdown",
   "metadata": {}
  },
  {
   "cell_type": "code",
   "execution_count": 2,
   "metadata": {},
   "outputs": [],
   "source": [
    "config = None\n",
    "with g.reading('./config.json') as cf:\n",
    "    config = json.load(cf)\n",
    "assert config is not None, \"config can't none\""
   ]
  },
  {
   "cell_type": "code",
   "execution_count": 3,
   "metadata": {},
   "outputs": [],
   "source": [
    "def r2_score_transformers(eval_prediction: EvalPrediction)->dict:\n",
    "    label_ids = eval_prediction.label_ids\n",
    "    logits = eval_prediction.predictions\n",
    "    softmax = F.softmax(torch.as_tensor(logits),dim=-1)\n",
    "    top_word = torch.argmax(softmax,dim=-1)\n",
    "    return {\n",
    "        'r2 score VS':r2_score(label_ids.T,top_word.T),\n",
    "        'r2 score SV':r2_score(label_ids,top_word)\n",
    "    }"
   ]
  },
  {
   "cell_type": "code",
   "execution_count": 4,
   "metadata": {},
   "outputs": [],
   "source": [
    "regions = [0,1,2,3,4,5,6,7,8,9,10\n",
    "# ,11,12\n",
    "]\n",
    "batchs = [0]\n",
    "region_paths = page_config.get_file_paths(config[page_config.file_page_prefix],page_config.page,regions,batchs)"
   ]
  },
  {
   "cell_type": "code",
   "execution_count": 5,
   "metadata": {},
   "outputs": [],
   "source": [
    "training_args = TrainingArguments(**config[page_config.train_args])\n",
    "modeling_args = ElectraConfig(**config[page_config.model_args])\n",
    "tokenizer = ElectraTokenizer(vocab_file=config[page_config.vocab_file])\n",
    "seed = training_args.seed"
   ]
  },
  {
   "cell_type": "code",
   "execution_count": 6,
   "metadata": {},
   "outputs": [
    {
     "output_type": "display_data",
     "data": {
      "text/plain": "preprocess data from document:   0%|          | 0/1 [00:00<?, ?it/s]",
      "application/vnd.jupyter.widget-view+json": {
       "version_major": 2,
       "version_minor": 0,
       "model_id": "cb148b516b2342beb9f79175afb2ff2f"
      }
     },
     "metadata": {}
    },
    {
     "output_type": "stream",
     "name": "stderr",
     "text": [
      "***** Running Evaluation *****\n",
      "  Num examples = 200\n",
      "  Batch size = 16\n"
     ]
    },
    {
     "output_type": "display_data",
     "data": {
      "text/plain": "<IPython.core.display.HTML object>",
      "text/html": "\n    <div>\n      \n      <progress value='1' max='13' style='width:300px; height:20px; vertical-align: middle;'></progress>\n      [ 1/13 : < :]\n    </div>\n    "
     },
     "metadata": {}
    }
   ],
   "source": [
    "output_dir = training_args.output_dir\n",
    "logging_dir = training_args.logging_dir\n",
    "for i, region in enumerate(regions):\n",
    "    batch_paths = region_paths[i]\n",
    "    test_dataset = GenNLPMaskedDataset(batch_paths[:],tokenizer,seed=seed,masked_by_flag=True,only_input=True)\n",
    "    modeling_args.vocab_size = tokenizer.vocab_size\n",
    "    modeling_args.max_position_embeddings = test_dataset.max_position_embeddings()\n",
    "    electra_model = ElectraForMaskedLM.from_pretrained(config[page_config.save_dir].format(region))\n",
    "    training_args.output_dir = output_dir.format(region)\n",
    "    training_args.logging_dir = logging_dir.format(region)\n",
    "    trainer = Trainer(\n",
    "        model = electra_model,\n",
    "        args=training_args,\n",
    "        # train_dataset = train_dataset,\n",
    "        # eval_dataset = eval_dataset,\n",
    "        compute_metrics = r2_score_transformers,\n",
    "    )\n",
    "    eval_test = trainer.evaluate(test_dataset)\n",
    "    break\n"
   ]
  },
  {
   "cell_type": "code",
   "execution_count": 12,
   "metadata": {},
   "outputs": [],
   "source": [
    "import pandas as pd\n",
    "from lib.data_processing import process_input as pi"
   ]
  },
  {
   "cell_type": "code",
   "execution_count": 43,
   "metadata": {},
   "outputs": [],
   "source": [
    "temp = pd.read_csv('/client/user1/cuongdev/GenImputation/data/test/electra_G1K_22_hs37d5/corpus_dir/G1K_22_hs37d5_biallelic_test.r0001.b0000.variant.gz')"
   ]
  },
  {
   "cell_type": "code",
   "execution_count": 14,
   "metadata": {},
   "outputs": [
    {
     "output_type": "display_data",
     "data": {
      "text/plain": "create marker from manifest: 0it [00:00, ?it/s]",
      "application/vnd.jupyter.widget-view+json": {
       "version_major": 2,
       "version_minor": 0,
       "model_id": "114574acd43a4535bfddc95a4c7713af"
      }
     },
     "metadata": {}
    },
    {
     "output_type": "stream",
     "name": "stdout",
     "text": [
      "Create marker done!\n"
     ]
    }
   ],
   "source": [
    "manifest_file = '/client/user1/cuongdev/GenImputation/data/raw/infiniumomni2-5-8v1-5-a1.csv.gz'\n",
    "chroms=['22']\n",
    "hg_refgenome='/client/user1/cuongdev/GenImputation/data/raw/hg19.fa.gz'\n",
    "marker = pi.parse_manifest(manifest_file,chroms,hg_refgenome)"
   ]
  },
  {
   "cell_type": "code",
   "execution_count": 44,
   "metadata": {},
   "outputs": [],
   "source": [
    "m = list(map(lambda x: str(x) in marker['22'],temp['POS'].values))"
   ]
  },
  {
   "cell_type": "code",
   "execution_count": 46,
   "metadata": {},
   "outputs": [
    {
     "output_type": "execute_result",
     "data": {
      "text/plain": [
       "16223201"
      ]
     },
     "metadata": {},
     "execution_count": 46
    }
   ],
   "source": [
    "temp['POS'].values[38]"
   ]
  },
  {
   "cell_type": "code",
   "execution_count": 42,
   "metadata": {},
   "outputs": [
    {
     "output_type": "execute_result",
     "data": {
      "text/plain": [
       "array([16114253, 16114258, 16114297, ..., 16220704, 16220705, 16220993])"
      ]
     },
     "metadata": {},
     "execution_count": 42
    }
   ],
   "source": [
    "temp['POS'].values[np.where(temp['POS'].values > int(pos[0]))[0]]"
   ]
  },
  {
   "cell_type": "code",
   "execution_count": 52,
   "metadata": {},
   "outputs": [],
   "source": [
    "paper = pd.read_csv('/client/user1/cuongdev/GenImputation/rnnimp/results/chr22.gen',sep=' ',header=None)"
   ]
  },
  {
   "cell_type": "code",
   "execution_count": 55,
   "metadata": {},
   "outputs": [
    {
     "output_type": "execute_result",
     "data": {
      "text/plain": [
       "51224208"
      ]
     },
     "metadata": {},
     "execution_count": 55
    }
   ],
   "source": [
    "paper[2].values[-1]"
   ]
  },
  {
   "cell_type": "code",
   "execution_count": 56,
   "metadata": {},
   "outputs": [],
   "source": [
    "from lib.genhelper import vcf_helper as vhelper"
   ]
  },
  {
   "cell_type": "code",
   "execution_count": 57,
   "metadata": {},
   "outputs": [],
   "source": [
    "zarr_path = vhelper.vcf_to_zarr('../G1K_22_hs37d5_biallelic_test.vcf.gz',in_zarr_folder=False)"
   ]
  },
  {
   "cell_type": "code",
   "execution_count": 58,
   "metadata": {},
   "outputs": [],
   "source": [
    "import zarr"
   ]
  },
  {
   "cell_type": "code",
   "execution_count": 59,
   "metadata": {},
   "outputs": [],
   "source": [
    "callset = zarr.open_group(zarr_path)"
   ]
  },
  {
   "cell_type": "code",
   "execution_count": 65,
   "metadata": {},
   "outputs": [
    {
     "output_type": "execute_result",
     "data": {
      "text/plain": [
       "(1109935,)"
      ]
     },
     "metadata": {},
     "execution_count": 65
    }
   ],
   "source": [
    "np.where(callset.variants.POS[:] < 51224208)[0].shape"
   ]
  },
  {
   "cell_type": "code",
   "execution_count": null,
   "metadata": {},
   "outputs": [],
   "source": [
    "1109935"
   ]
  },
  {
   "cell_type": "code",
   "execution_count": 66,
   "metadata": {},
   "outputs": [
    {
     "output_type": "execute_result",
     "data": {
      "text/plain": [
       "(40249, 305)"
      ]
     },
     "metadata": {},
     "execution_count": 66
    }
   ],
   "source": [
    "paper.shape"
   ]
  },
  {
   "cell_type": "code",
   "execution_count": 68,
   "metadata": {},
   "outputs": [
    {
     "output_type": "execute_result",
     "data": {
      "text/plain": [
       "27.576709980372183"
      ]
     },
     "metadata": {},
     "execution_count": 68
    }
   ],
   "source": [
    "1109935/40249"
   ]
  },
  {
   "cell_type": "code",
   "execution_count": null,
   "metadata": {},
   "outputs": [],
   "source": []
  }
 ]
}